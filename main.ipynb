{
 "cells": [
  {
   "cell_type": "code",
   "execution_count": 1,
   "id": "543f7527-9609-43d5-b135-79b9ade838d4",
   "metadata": {},
   "outputs": [
    {
     "name": "stdout",
     "output_type": "stream",
     "text": [
      "Collecting deep-translator\n",
      "  Downloading deep_translator-1.11.4-py3-none-any.whl.metadata (30 kB)\n",
      "Requirement already satisfied: beautifulsoup4<5.0.0,>=4.9.1 in c:\\users\\admin\\anaconda3\\lib\\site-packages (from deep-translator) (4.12.3)\n",
      "Requirement already satisfied: requests<3.0.0,>=2.23.0 in c:\\users\\admin\\anaconda3\\lib\\site-packages (from deep-translator) (2.32.3)\n",
      "Requirement already satisfied: soupsieve>1.2 in c:\\users\\admin\\anaconda3\\lib\\site-packages (from beautifulsoup4<5.0.0,>=4.9.1->deep-translator) (2.5)\n",
      "Requirement already satisfied: charset-normalizer<4,>=2 in c:\\users\\admin\\anaconda3\\lib\\site-packages (from requests<3.0.0,>=2.23.0->deep-translator) (3.3.2)\n",
      "Requirement already satisfied: idna<4,>=2.5 in c:\\users\\admin\\anaconda3\\lib\\site-packages (from requests<3.0.0,>=2.23.0->deep-translator) (3.7)\n",
      "Requirement already satisfied: urllib3<3,>=1.21.1 in c:\\users\\admin\\anaconda3\\lib\\site-packages (from requests<3.0.0,>=2.23.0->deep-translator) (2.2.3)\n",
      "Requirement already satisfied: certifi>=2017.4.17 in c:\\users\\admin\\anaconda3\\lib\\site-packages (from requests<3.0.0,>=2.23.0->deep-translator) (2024.8.30)\n",
      "Downloading deep_translator-1.11.4-py3-none-any.whl (42 kB)\n",
      "Installing collected packages: deep-translator\n",
      "Successfully installed deep-translator-1.11.4\n"
     ]
    }
   ],
   "source": [
    "!pip install deep-translator"
   ]
  },
  {
   "cell_type": "code",
   "execution_count": 5,
   "id": "886ac09b-92e9-4bf9-90fa-1101120a0f88",
   "metadata": {},
   "outputs": [],
   "source": [
    "from deep_translator import GoogleTranslator\n",
    "\n",
    "def translate_message(message, dest_language='hi'):\n",
    "    translated = GoogleTranslator(source='en', target='hi').translate(\"Flood warning in your area!\")    \n",
    "    return translated\n"
   ]
  },
  {
   "cell_type": "code",
   "execution_count": 23,
   "id": "84877261-8e7e-490f-8244-67062424a8bb",
   "metadata": {},
   "outputs": [],
   "source": [
    "import requests\n",
    "\n",
    "def send_sms(number, message):\n",
    "    url = \"https://www.fast2sms.com/dev/bulkV2\"\n",
    "\n",
    "    querystring = {\n",
    "        \"authorization\": \"1ZRhkMsSHVf8cry6ndJ4K5iUPFaT92oumzqpIbDel0LwX7WQgvvYeaq0E1jR2V7oNwbApK56kmM9XWnh\",\n",
    "        \"message\": message,\n",
    "        \"language\": \"english\",\n",
    "        \"route\": \"q\",\n",
    "        \"numbers\": number}\n",
    "\n",
    "    headers = {\n",
    "        'cache-control': \"no-cache\"\n",
    "    }\n",
    "    try:\n",
    "        response = requests.request(\"GET\", url,\n",
    "                                    headers = headers,\n",
    "                                    params = querystring)\n",
    "        \n",
    "        print(\"SMS Successfully Sent\")\n",
    "    except:\n",
    "        print(\"Oops! Something wrong\")"
   ]
  },
  {
   "cell_type": "code",
   "execution_count": 25,
   "id": "da2f2af0-186c-4fd4-b770-fb1be03abcf3",
   "metadata": {},
   "outputs": [
    {
     "name": "stdout",
     "output_type": "stream",
     "text": [
      "अपने क्षेत्र में बाढ़ की चेतावनी!\n",
      "SMS Successfully Sent\n"
     ]
    }
   ],
   "source": [
    "import pickle\n",
    "import pandas as pd \n",
    "\n",
    "# Load trained model\n",
    "with open('flood_predictor.pkl', 'rb') as f:\n",
    "    model = pickle.load(f)\n",
    "\n",
    "# Example real-time data\n",
    "data = pd.DataFrame([{\n",
    "    'rainfall_mm': 115,\n",
    "    'river_level': 6.7,\n",
    "    'temp': 27,\n",
    "    'wind_speed': 25\n",
    "}])\n",
    "\n",
    "# Predict flood risk\n",
    "prediction = model.predict(data)[0]\n",
    "\n",
    "if prediction == 1:\n",
    "    original_msg = \"Flood likely in your area. Move to higher ground.\"\n",
    "   \n",
    "    local_msg = translate_message(original_msg, dest_language='hi')  # Change 'hi' to any ISO language code\n",
    "    print(local_msg)\n",
    "    send_sms(\"9817282889\", \"Hello\")\n",
    "else:\n",
    "    print(\"No flood predicted.\")"
   ]
  },
  {
   "cell_type": "code",
   "execution_count": 27,
   "id": "a0a616b9-ef25-44f0-a77d-d52c4d37b2b2",
   "metadata": {},
   "outputs": [
    {
     "name": "stdout",
     "output_type": "stream",
     "text": [
      "SMS Successfully Sent\n"
     ]
    }
   ],
   "source": [
    "send_sms(\"9817282889\", local_msg)"
   ]
  },
  {
   "cell_type": "code",
   "execution_count": null,
   "id": "200787b3-d4fc-42f6-b718-26ea0c6dfbc0",
   "metadata": {},
   "outputs": [],
   "source": []
  }
 ],
 "metadata": {
  "kernelspec": {
   "display_name": "Python 3 (ipykernel)",
   "language": "python",
   "name": "python3"
  },
  "language_info": {
   "codemirror_mode": {
    "name": "ipython",
    "version": 3
   },
   "file_extension": ".py",
   "mimetype": "text/x-python",
   "name": "python",
   "nbconvert_exporter": "python",
   "pygments_lexer": "ipython3",
   "version": "3.12.7"
  }
 },
 "nbformat": 4,
 "nbformat_minor": 5
}
